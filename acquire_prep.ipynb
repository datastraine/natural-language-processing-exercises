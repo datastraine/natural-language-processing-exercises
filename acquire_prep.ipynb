{
 "cells": [
  {
   "cell_type": "code",
   "execution_count": 5,
   "metadata": {},
   "outputs": [
    {
     "name": "stdout",
     "output_type": "stream",
     "text": [
      "Success\n"
     ]
    }
   ],
   "source": [
    "from requests import get\n",
    "from bs4 import BeautifulSoup\n",
    "import os\n",
    "import pandas as pd\n",
    "import numpy as np\n",
    "print('Success')"
   ]
  },
  {
   "cell_type": "markdown",
   "metadata": {},
   "source": [
    "# Codeup Blog Articles\n",
    "\n",
    "Scrape the article text from the following pages:\n",
    "\n",
    "* https://codeup.com/codeups-data-science-career-accelerator-is-here/\n",
    "* https://codeup.com/data-science-myths/\n",
    "* https://codeup.com/data-science-vs-data-analytics-whats-the-difference/\n",
    "* https://codeup.com/10-tips-to-crush-it-at-the-sa-tech-job-fair/\n",
    "* https://codeup.com/competitor-bootcamps-are-closing-is-the-model-in-danger/\n",
    "\n",
    "\n",
    "Encapsulate your work in a function named get_blog_articles that will return a list of dictionaries, with each dictionary representing one article. The shape of each dictionary should look like this:\n",
    "\n",
    "{\n",
    "    'title': 'the title of the article',\n",
    "    'content': 'the full text content of the article'\n",
    "}"
   ]
  },
  {
   "cell_type": "code",
   "execution_count": 6,
   "metadata": {},
   "outputs": [
    {
     "name": "stdout",
     "output_type": "stream",
     "text": [
      "['https://codeup.com/codeups-data-science-career-accelerator-is-here/', 'https://codeup.com/data-science-myths/', 'https://codeup.com/data-science-vs-data-analytics-whats-the-difference/', 'https://codeup.com/10-tips-to-crush-it-at-the-sa-tech-job-fair/', 'https://codeup.com/competitor-bootcamps-are-closing-is-the-model-in-danger/']\n"
     ]
    }
   ],
   "source": [
    "# Assign each webpage to an object then put the objects in a list to iterate over\n",
    "\n",
    "art1 = 'https://codeup.com/codeups-data-science-career-accelerator-is-here/'\n",
    "art2 = 'https://codeup.com/data-science-myths/'\n",
    "art3 = 'https://codeup.com/data-science-vs-data-analytics-whats-the-difference/'\n",
    "art4 = 'https://codeup.com/10-tips-to-crush-it-at-the-sa-tech-job-fair/'\n",
    "art5 = 'https://codeup.com/competitor-bootcamps-are-closing-is-the-model-in-danger/'\n",
    "\n",
    "articles = [art1, art2, art3, art4, art5]\n",
    "print(articles)"
   ]
  },
  {
   "cell_type": "code",
   "execution_count": 7,
   "metadata": {},
   "outputs": [
    {
     "data": {
      "text/plain": [
       "[{'title': 'Codeup’s Data Science Career Accelerator is Here!',\n",
       "  'content': 'The rumors are true! The time has arrived. Codeup has officially opened applications to our new Data Science career accelerator, with only 25 seats available! This immersive program is one of a kind in San Antonio, and will help you land a job in\\xa0Glassdoor’s #1 Best Job in America.\\nData Science is a method of providing actionable intelligence from data.\\xa0The data revolution has hit San Antonio,\\xa0resulting in an explosion in Data Scientist positions\\xa0across companies like USAA, Accenture, Booz Allen Hamilton, and HEB. We’ve even seen\\xa0UTSA invest $70 M for a Cybersecurity Center and School of Data Science.\\xa0We built a program to specifically meet the growing demands of this industry.\\nOur program will be 18 weeks long, full-time, hands-on, and project-based. Our curriculum development and instruction is led by Senior Data Scientist, Maggie Giust, who has worked at HEB, Capital Group, and Rackspace, along with input from dozens of practitioners and hiring partners. Students will work with real data sets, realistic problems, and the entire data science pipeline from collection to deployment. They will receive professional development training in resume writing, interviewing, and continuing education to prepare for a smooth transition to the workforce.\\nWe focus on applied data science for immediate impact and ROI in a business, which is how we can back it all up with a 6 month tuition refund guarantee – just like our existing Web Dev program. We’re focusing on Data Science with Python, SQL, and ML, covered in\\xa014 modules: 1) Fundamentals; 2) Applied statistics; 3) SQL; 4) Python; 5) Supervised machine learning – regression; 6) Supervised machine learning – classification; 7) Unsupervised machine learning – clustering; 8) Time series analysis; 9) Anomaly detection; 10) Natural language processing; 11) Distributed machine learning; 12) Advanced topics (deep learning, NoSQL, cloud deployment, etc.); 13) Storytelling with data; and 14) Domain expertise development.\\nApplications are now open\\xa0for Codeup’s first Data Science cohort, which will start class on February 4, 2019. Hurry – there are only 25 seats available! To further our mission of cultivating inclusive growth, scholarships will be available to women, minorities, LGBTQIA+ individuals, veterans, first responders, and people relocating to San Antonio.\\nIf you want to learn about joining our program or hiring our graduates, email datascience@codeup.com!\\n\\n'},\n",
       " {'title': 'Data Science Myths',\n",
       "  'content': 'By Dimitri Antoniou and Maggie Giust\\nData Science, Big Data, Machine Learning, NLP, Neural Networks…these buzzwords have rapidly spread into mainstream use over the last few years. Unfortunately, definitions are varied and sources of truth are limited. Data Scientists are in fact not magical unicorn wizards who can snap their fingers and turn a business around! Today, we’ll take a cue from our favorite Mythbusters to tackle some common myths and misconceptions in the field of Data Science.\\n\\nvia GIPHY\\nMyth #1: Data Science = Statistics\\nAt first glance, this one doesn’t sound unreasonable. Statistics is defined as, “A branch of mathematics dealing with the collection, analysis, interpretation, and presentation of masses of numerical data.” That sounds a lot like our definition of Data Science: a method of drawing actionable intelligence from data. \\nIn truth, statistics is actually one small piece of Data Science. As our Senior Data Scientist puts it, “Statistics forces us to make assumptions about the nature of the relationship between variables, the distribution of the data, etc.” In the traditional Data Science venn diagram, you’ll see that math/stats make up ⅓ of a working professional. These are tools and skills to leverage, but data science itself is about drawing intelligence from data.\\nBUSTED\\n\\nvia GIPHY\\n\\xa0\\nMyth #2: Data Scientist = Business/Data Analyst\\nThis one is so common that we wrote a whole post about it! These are separate and different roles within the data field. While a data scientist will often do analytics, their spectrum of work is wider. A data analyst will use structured data to create dashboards and KPIs, while a Data Scientist deals with unstructured and messy data for a range of outputs. If they’re interested, business analysts will often progress to data scientists.\\nBUSTED\\n\\nvia GIPHY\\n\\xa0\\nMyth #3: Data Science = Data Science\\nThis one’s tricky, because it’s impossible to either confirm or bust! The ‘myth’ is that one person or company using the term Data Science is not necessarily the same as another person or company using the same term. Depending on organizational capacity, individual experience, educational background, and many other variables, we might be using the same name for different animals.\\nTl;dr: don’t assume a common understanding across hiring managers, recruiters, and practitioners. Look instead for specifics of tools, techniques, methodologies, and outputs. That being said, this one falls in the “plausible” category, because it may actually be true in some circumstances, while false in others.\\nPLAUSIBLE\\n\\nvia GIPHY\\n\\xa0\\nMyth #4: Data Science curricula are well-defined and consistent.\\nWe recommend checking this one out for yourself! A quick google search for bootcamps, master’s degree programs, and online courses will reveal that different organizations teach different things. There is no commonly accepted framework for teaching data science! Some focus more on the engineering, others focus more on machine learning, some think deep learning is foundational, and some prefer to use R. \\nOur curriculum was built through employer interviews, practitioner interviews, market research, and company partnerships. But we’re based in San Antonio! A bootcamp in New York might follow the same process and end up with a different syllabus. Keep in mind, whatever your learning path, that there will be gaps in your learning. The most important thing is to recognize those gaps.\\nBUSTED\\n\\nvia GIPHY\\n\\xa0\\nMyth #5: If I want to be a data scientist, I just need to learn Python or R.\\nThis one is common and dangerous! Just like statistics, programming languages like Python and R are tools. They’re just pieces of a larger puzzle! Knowing Python without understanding the data science pipeline is like knowing how to build a floor without having a floor plan. Of course, these are valuable technical skills that give you a leg up, but they’re second in importance to asking the right questions, knowing what tools to use when, and communicating your findings.\\nBUSTED\\n\\nvia GIPHY\\nStill have questions? Reach out to us! We’re always here to help.\\n\\n'},\n",
       " {'title': 'Data Science VS Data Analytics: What’s The Difference?',\n",
       "  'content': 'By Dimitri Antoniou\\nA week ago, Codeup launched our immersive Data Science career accelerator! With our first-class kicking off in February and only 25 seats available, we’ve been answering a lot of questions from prospective students. One, in particular, has come up so many times we decided to dedicate a blog post to it. What is the difference between data science and data analytics?\\nFirst, let’s define some of our terms! Take a look at this blog to understand what Data Science is. In short, it is a method of turning raw data into action, leading to the desired outcome. Big Data refers to data sets that are large and complex, usually exceeding the capacity of computers and normal processing power to deal with. Machine Learning is the process of ‘learning’ underlying patterns of data in order to automate the extraction of intelligence from that data.\\n\\xa0\\n\\xa0\\nNow, let’s look at the data pipeline that data scientists work through to reach the actionable insights and outcomes we mentioned:\\n\\nWe start by collecting data, which may come from social media channels, network logs, financials, employee records, or more.\\nWe then process that data into usable information stored in databases or streamed.\\nNext, we look back on the history of that data to summarize, describe, and explain, turning the data into meaningful knowledge. Here we’re primarily using mathematics, statistics, and visualization methods.\\nNow we convert that knowledge into intelligence, seeking to predict future events so that we can make decisions in the present. This is where practitioners will introduce mathematical/statistical modeling through machine learning to their data.\\nFinally, we enable action by building automations, running tests, building visualizations, monitoring new data, etc.\\n\\nData professionals work at different stages of the spectrum to move data through the pipeline. On the left, Big Data Engineers specialize in collecting, storing, and processing data, getting it from Data to Information. In the middle, analysts work to understand and convert that information to knowledge. Lastly, a Machine Learning Engineer utilizes machine learning algorithms to turn intelligence into action by building automations, visualizations, recommendations, and predictions.\\nData Scientists span multiple stages of this pipeline, from information to action. They will spend about 70% of their time wrangling data in the information stage. They will conduct a statistical analysis to derive knowledge. Lastly, they predict future events and build automations using machine learning.\\nFor those technical folk out there, data science is to data engineering or machine learning engineering as full-stack development is to front-end or back-end development. For the non-technical folk, data science is the umbrella term that houses data analytics, machine learning, and other data professions.\\nSo what’s the biggest difference between a data analyst and a data scientist? Data scientists utilize computer programming and machine learning in addition to mathematics and statistics. \\nStill have questions? Reach out to us.\\xa0Wondering which of Codeup’s programs is right for you? We’ve got you covered. And of course, if data science gets you excited, get started with us today!\\n\\n'},\n",
       " {'title': '10 Tips to Crush It at the SA Tech Job Fair',\n",
       "  'content': 'SA Tech Job Fair\\nThe third bi-annual San Antonio Tech Job Fair is just around the corner. Over 25 companies will be at The Jack Guenther Pavilion\\xa0on April 10th, and they are hungry for new tech team members!\\nAt the job fair, companies want to quickly source a list of new talent leads. AKA they need to find qualified employees they can begin interviewing for jobs. Recruiters will represent their organization at tables with informational handouts and company swag. Your goal at a job fair is to set yourself apart from other candidates and ensure your name makes it to the top of those lead lists.\\nThink of your interaction with the company as a mini screening interview. The company rep will subtly evaluate basic qualities like your professionalism, communication and interpersonal skills, work experience, and interest level in the organization. Job fairs are also an opportunity for you to gain information about companies that may not be easily accessible online. \\xa0\\nAt Codeup, we’re passionate about bridging the gap between talent and demand, so we’ve outlined 10 tips to ensure you bring your A-game and leave a lasting impression!\\n10 Tips for Totally Crushing it at the SA Tech Job Fair\\n\\nUse keywords to describe your skills, but don’t go overboard. You’ll probably be talking to a recruiter or talent acquisition specialist. As a technical candidate, recognize these individuals usually aren’t developers or network administrators. They know terms like “JavaScript” and “Apache,” but haven’t written a line of code or spun up a server, so don’t get too caught up in industry jargon.\\nResearch the companies ahead of time. Review the list of attending companies and make sure you know what the company does and whether or not they hire people in your desired role. Look up recent news on the company and mention it during your conversation.\\nDefine your own goals for the job fair. Are you searching for a specific type of role or company culture? What matters most in your job search? Are there companies you want to prioritize? \\xa0Develop a game plan and be intentional with your time.\\nPrepare a stellar résumé. Bring about 20 copies of your résumé to the event, printed on nice paper. We won’t cover resume writing in this post, but there are a plethora of online resources you can consult. For job fairs, don’t worry about cover letters.\\nPolish your online profiles. If recruiters have a copy of your resume, you can be sure they will stalk you online soon. Make sure your online presence is professional and appropriate. A good place to start is by Googling yourself. Update your LinkedIn, and clean up any social media profiles.\\nCraft a 30-60 second elevator pitch. You may only have a few minutes with an employer. What will you say if they ask, “Tell me about yourself?” Consider structuring your pitch like this: Who you are + What you do + What your goals are + Why that matters to the company.\\nDon’t show up in a t-shirt, but trade in your suit for something more chill. Always keep it professional, but remember: tech is typically more casual than other industries. You’ll likely feel out of place if you look like you belong on Wall St., so refer to this guide on dressing for tech interviews.\\nDon’t forget the basics. Start and end each conversation with a firm handshake. Make eye contact while conversing. Smile! Thank the recruiter before you move on to the next table.\\nAsk educated questions. Don’t waste valuable face time with recruiters by asking questions like, “What does [Insert Company here] do?” They hate that question! Instead, try some of these:\\n\\nWhat are the top 3-5 examples of knowledge, skills, and abilities you look for in candidates?\\nWhat’s the best advice you have for someone who wants to work here?\\nWhat is your interview process like?\\nAre you hiring for any roles not currently listed on your websites?\\n\\n\\nFollow up. Collect business cards from each table. The next day, send a short note expressing your interest in the company’s opportunities and thanking the recruiter for his or her time.\\n\\nRSVP for the SA Tech Job Fair taking place at the Jack Guenther Pavilion – September 18th starting at 4 pm.\\xa0\\n\\n'},\n",
       " {'title': 'Competitor Bootcamps Are Closing. Is the Model in Danger?',\n",
       "  'content': 'Competitor Bootcamps Are Closing. Is the Model in Danger?\\n\\xa0\\n\\nIs the programming bootcamp model in danger?\\nIn recent news, DevBootcamp and The Iron Yard announced that they are closing their doors. This is big news. DevBootcamp was the first programming bootcamp model and The Iron Yard is a national player with 15 campuses across the U.S. In both cases, the companies cited an unsustainable business model. Does that mean the boot-camp model is dead?\\n\\ntl;dr “Nope!”\\nBootcamps exist because traditional education models have failed to provide students job-ready skills for the 21st century. Students demand better employment options from their education. Employers demand skilled and job ready candidates. Big Education’s failure to meet those needs through traditional methods created the fertile ground for the new business model of the programming bootcamp.\\nEducation giant Kaplan and Apollo Education Group (owner of University of Phoenix) bought their way into this new educational model when they purchased The Iron Yard and DevBootcamp. They purchased their competition with the intent to scale up the model. Unfortunately, Big Education is too habituated to coming up short for students. They bought the upstarts that challenged them, tried making changes to run those bootcamps in the “Big Education” way, and, sadly, they’ve closed the doors when they realized that scaling education is more challenging when student outcomes truly matter.\\nThe bootcamp model is still new and there will be plenty consolidation, competition, and changes in the future. This model is based on actually being adaptive, innovative, and sustainable. And there’s always room for innovation.\\n\\n\\nWhat we’ve learned at Codeup…\\n\\n\\nEducation is challenging to scale.\\nPrioritizing quality over growth pays off.\\n\\nWhat we’re doing at Codeup…\\n\\nHigher standards in our application process are leading to better student outcomes.\\nOur reputation and commitment to quality is opening new doors to previously uninterested/unreachable employers.\\nIn the beginning, the majority of Codeup graduates went to work with startups and small businesses. We’re now seeing a larger amount of our graduates place at medium to large sized businesses.\\nDemand is growing and employers are learning that the results are in the graduates.\\nCodeup’s model is sustainable, inclusive, and works.\\n\\nCall or contact us today to see how Codeup’s commitment to quality and approach to being a career accelerator can make a profound difference in your life.\\n\\n'}]"
      ]
     },
     "execution_count": 7,
     "metadata": {},
     "output_type": "execute_result"
    }
   ],
   "source": [
    "def get_blog_articles():\n",
    "    blog_articles = []\n",
    "    headers = {'User-Agent': 'Codeup Data Science'}\n",
    "    for article in articles:\n",
    "        url = article\n",
    "        headers = {'User-Agent': 'Codeup Data Science'} # Some websites don't accept the pyhon-requests default user-agent\n",
    "        response = get(url, headers=headers)\n",
    "        soup = BeautifulSoup(response.content, 'html.parser')\n",
    "        title = soup.find('h1', class_='jupiterx-post-title')\n",
    "        body = soup.find('div', class_='jupiterx-post-content')\n",
    "        dicob = {\"title\":title.text, \"content\":body.text}\n",
    "        blog_articles.append(dicob)\n",
    "    return blog_articles\n",
    "\n",
    "get_blog_articles()"
   ]
  },
  {
   "cell_type": "markdown",
   "metadata": {},
   "source": [
    "# News Articles\n",
    "\n",
    "Write a function that scrapes the news articles for the following topics:\n",
    "\n",
    "Business\n",
    "Sports\n",
    "Technology\n",
    "Entertainment\n",
    "The end product of this should be a function named get_news_articles that returns a list of dictionaries, where each dictionary has this shape:\n",
    "\n",
    "{\n",
    "    'title': 'The article title',\n",
    "    'content': 'The article content',\n",
    "    'category': 'business' # for example\n",
    "}\n",
    "\n",
    "## Hints:\n",
    "\n",
    "1. Start by inspecting the website in your browser. Figure out which elements will be useful.\n",
    "1.Start by creating a function that handles a single article and produces a dictionary like the one above.\n",
    "1.Next create a function that will find all the articles on a single page and call the function you created in the last step for every article on the page.\n",
    "1.Now create a function that will use the previous two functions to scrape the articles from all the pages that you need, and do any additional processing that needs to be done."
   ]
  },
  {
   "cell_type": "code",
   "execution_count": 8,
   "metadata": {
    "scrolled": true
   },
   "outputs": [],
   "source": [
    "def get_inshorts():\n",
    "    '''\n",
    "    Retruns a list of dictionaries of the below list of aticles category sections from the\n",
    "    inshorts website where title is the title of an article, content is the text of the article,\n",
    "    and the category is what section of the site the article came from\n",
    "\n",
    "    business = 'https://inshorts.com/en/read/business'\n",
    "    sports = 'https://inshorts.com/en/read/sports'\n",
    "    technology = 'https://inshorts.com/en/read/technology'\n",
    "    entertainment = 'https://inshorts.com/en/read/entertainment'\n",
    "\n",
    "    '''\n",
    "    # Assign each category's urls to corresponding objects\n",
    "    business = 'https://inshorts.com/en/read/business'\n",
    "    sports = 'https://inshorts.com/en/read/sports'\n",
    "    technology = 'https://inshorts.com/en/read/technology'\n",
    "    entertainment = 'https://inshorts.com/en/read/entertainment'\n",
    "    # create an empty list object to store the dictonaries in\n",
    "    inshorts=[]   \n",
    "    # put each category object into a list to iterate over\n",
    "    topics = [business, sports, technology, entertainment]\n",
    "    # use a for loop to iterate over each cateatogry to get into the URL\n",
    "    for topic in topics:\n",
    "        response = get(topic)\n",
    "        # create a soup object to use html.parser\n",
    "        soup = BeautifulSoup(response.content, 'html.parser')\n",
    "        cards = soup.find_all('div', class_='news-card')\n",
    "\n",
    "        # Loop through each news card on the page and get what we want\n",
    "        for card in cards:\n",
    "            title = card.find('span', itemprop='headline' ).text\n",
    "            author = card.find('span', class_='author').text\n",
    "            content = card.find('div', itemprop='articleBody').text\n",
    "\n",
    "            # Create a dictionary, article, for each news card\n",
    "            article = {'topic': topic[29:], \n",
    "                        'title': title, \n",
    "                        'author': author, \n",
    "                        'content': content}\n",
    "\n",
    "            # Add the dictionary, article, to our list of dictionaries, articles.\n",
    "            inshorts.append(article)\n",
    "    \n",
    "    \n",
    "    return inshorts\n",
    "\n",
    "inshorts = get_inshorts()\n",
    "df = pd.DataFrame(inshorts)\n",
    "df.to_json('big_blogs.json')"
   ]
  },
  {
   "cell_type": "code",
   "execution_count": 9,
   "metadata": {
    "scrolled": false
   },
   "outputs": [
    {
     "data": {
      "text/plain": [
       "[{'title': 'Breaking News Guildelines [updated 10-29-09]',\n",
       "  'author': 'Schweddy',\n",
       "  'OP_date': 'Jul 25, 2009'},\n",
       " {'title': \"DHS agency: 'Nov. 3 election was most secure in American history'\",\n",
       "  'author': 'lurchadams',\n",
       "  'OP_date': 'Thursday at 7:33 PM'},\n",
       " {'title': \"Trump's Legal Team Claims Issues with Dominion Voting Software\",\n",
       "  'author': 'sanman',\n",
       "  'OP_date': 'Yesterday at 1:11 PM'},\n",
       " {'title': \"Trump coronavirus adviser Scott Atlas urges Michigan to 'rise up' against new Covid-19 measures\",\n",
       "  'author': 'poweRob',\n",
       "  'OP_date': 'Yesterday at 9:54 PM'},\n",
       " {'title': \"GSA official blocking Biden's transition appears to privately plan post-Trump career\",\n",
       "  'author': 'W_Heisenberg',\n",
       "  'OP_date': 'Today at 3:24 PM'},\n",
       " {'title': 'Trump Supporters Plan DC Demonstrations today to Protest Election',\n",
       "  'author': 'Juks',\n",
       "  'OP_date': 'Saturday at 6:49 AM'},\n",
       " {'title': 'GOP leaders in 4 states quash dubious Trump bid on electors',\n",
       "  'author': 'TU Curmudgeon',\n",
       "  'OP_date': 'Saturday at 1:33 PM'},\n",
       " {'title': 'AOC Wants an ‘Enemies List’ of Trump Supporters',\n",
       "  'author': 'sanman',\n",
       "  'OP_date': 'Nov 8, 2020'},\n",
       " {'title': 'Pollsters After 2020 Presidential Election Need to Go Through ‘serious Soul-Searching’',\n",
       "  'author': 'sanman',\n",
       "  'OP_date': 'Yesterday at 10:17 PM'},\n",
       " {'title': \"Trump Plaza to Implode Just Days After Biden Inauguration, Deemed a 'Public Safety Hazard'\",\n",
       "  'author': 'NWRatCon',\n",
       "  'OP_date': 'Nov 9, 2020'},\n",
       " {'title': 'Giuliani’s fantasy parade of false voter-fraud claims',\n",
       "  'author': 'OscarLevant',\n",
       "  'OP_date': 'Today at 9:52 AM'},\n",
       " {'title': 'Man arrested for voter fraud in Luzerne County[, PA] (October 21)',\n",
       "  'author': 'The Mark',\n",
       "  'OP_date': 'Tuesday at 7:58 PM'},\n",
       " {'title': 'WHO Caught Lying Again',\n",
       "  'author': 'zimmer',\n",
       "  'OP_date': 'Today at 11:44 AM'},\n",
       " {'title': 'Mother of teen accused of shooting Kenosha protesters: \"My son shouldn\\'t have been there\"',\n",
       "  'author': 'dcsports',\n",
       "  'OP_date': 'Thursday at 11:28 AM'},\n",
       " {'title': 'Austria: Mosques Dissolved, Raided After Radical Islamic Terror Attack',\n",
       "  'author': 'zimmer',\n",
       "  'OP_date': 'Nov 9, 2020'},\n",
       " {'title': 'The Latest: US cases hit 11M; latest million took 6 days By The Associated Press an hour ago',\n",
       "  'author': 'Montana Son',\n",
       "  'OP_date': 'Yesterday at 7:37 PM'},\n",
       " {'title': 'There’s Been an Arrest in the Sucker Punching of Actor Rick Moranis',\n",
       "  'author': 'ASHES',\n",
       "  'OP_date': 'Yesterday at 12:16 PM'},\n",
       " {'title': 'White House threatens to fire anyone who tries to quit',\n",
       "  'author': 'swing_voter',\n",
       "  'OP_date': 'Tuesday at 5:03 PM'},\n",
       " {'title': 'Joe Biden is president elect -- CNN',\n",
       "  'author': 'OscarLevant',\n",
       "  'OP_date': 'Nov 7, 2020'},\n",
       " {'title': 'Authorities release new details about police shooting of Jacob Blake',\n",
       "  'author': 'Metric Mouse',\n",
       "  'OP_date': 'Aug 27, 2020'},\n",
       " {'title': 'Trump marks Veterans Day',\n",
       "  'author': 'Germinator',\n",
       "  'OP_date': 'Wednesday at 4:13 PM'}]"
      ]
     },
     "execution_count": 9,
     "metadata": {},
     "output_type": "execute_result"
    }
   ],
   "source": [
    "url = 'https://debatepolitics.com/forums/breaking-news-mainstream-media.23/'\n",
    "response = get(url)\n",
    "soup = BeautifulSoup(response.content, 'html.parser')\n",
    "posts = soup.findAll('div', class_='structItem-cell structItem-cell--main')\n",
    "post_list = []\n",
    "for post in posts:\n",
    "    title = post.find('div', class_=\"structItem-title\").a.text\n",
    "    author = post.find('ul', class_=\"structItem-parts\").a.text\n",
    "    date = post.find('li', class_='structItem-startDate').text\n",
    "    dicob = {'title':title,\n",
    "             'author':author,\n",
    "             'OP_date':date}\n",
    "    post_list.append(dicob)\n",
    "post_list"
   ]
  },
  {
   "cell_type": "code",
   "execution_count": 10,
   "metadata": {
    "scrolled": true
   },
   "outputs": [],
   "source": [
    "url = 'https://debatepolitics.com/forums/breaking-news-mainstream-media.23/'\n",
    "response = get(url)\n",
    "soup = BeautifulSoup(response.content, 'html.parser')\n",
    "titles = soup.findAll('div', class_=\"structItem-title\")\n",
    "authors = soup.findAll('ul', class_=\"structItem-parts\")\n",
    "dates = soup.findAll('li', class_='data-date-string')\n"
   ]
  },
  {
   "cell_type": "code",
   "execution_count": null,
   "metadata": {},
   "outputs": [],
   "source": []
  }
 ],
 "metadata": {
  "kernelspec": {
   "display_name": "Python 3",
   "language": "python",
   "name": "python3"
  },
  "language_info": {
   "codemirror_mode": {
    "name": "ipython",
    "version": 3
   },
   "file_extension": ".py",
   "mimetype": "text/x-python",
   "name": "python",
   "nbconvert_exporter": "python",
   "pygments_lexer": "ipython3",
   "version": "3.8.3"
  }
 },
 "nbformat": 4,
 "nbformat_minor": 4
}
